{
  "nbformat": 4,
  "nbformat_minor": 0,
  "metadata": {
    "colab": {
      "private_outputs": true,
      "provenance": [],
      "include_colab_link": true
    },
    "kernelspec": {
      "name": "python3",
      "display_name": "Python 3"
    },
    "language_info": {
      "name": "python"
    },
    "accelerator": "GPU",
    "gpuClass": "standard"
  },
  "cells": [
    {
      "cell_type": "markdown",
      "metadata": {
        "id": "view-in-github",
        "colab_type": "text"
      },
      "source": [
        "<a href=\"https://colab.research.google.com/github/lkjhgfdbf3/Identification-of-dog-eye-diseases/blob/main/MobileNet_fine_Tuning.ipynb\" target=\"_parent\"><img src=\"https://colab.research.google.com/assets/colab-badge.svg\" alt=\"Open In Colab\"/></a>"
      ]
    },
    {
      "cell_type": "code",
      "execution_count": null,
      "metadata": {
        "id": "cULI4IiSouZ7"
      },
      "outputs": [],
      "source": [
        "from google.colab import drive\n",
        "drive.mount('/content/drive')"
      ]
    },
    {
      "cell_type": "code",
      "source": [
        "!unzip -qq \"/content/drive/MyDrive/01.데이터.zip\""
      ],
      "metadata": {
        "id": "HQ3-S7U_p9IK"
      },
      "execution_count": null,
      "outputs": []
    },
    {
      "cell_type": "code",
      "source": [
        "!pip install split-folders"
      ],
      "metadata": {
        "id": "VlEJNopeqzgv"
      },
      "execution_count": null,
      "outputs": []
    },
    {
      "cell_type": "code",
      "source": [
        "import splitfolders"
      ],
      "metadata": {
        "id": "NZxw1B9_qN6U"
      },
      "execution_count": null,
      "outputs": []
    },
    {
      "cell_type": "code",
      "source": [
        "splitfolders.ratio('/content/01.데이터', output=\"output\", seed=1337, ratio=(0.7, 0.2, 0.1))"
      ],
      "metadata": {
        "id": "a_JJl4YAqqLI"
      },
      "execution_count": null,
      "outputs": []
    },
    {
      "cell_type": "code",
      "source": [
        "from tensorflow.keras import layers\n",
        "img_input = layers.Input(shape=(224*224*3))"
      ],
      "metadata": {
        "id": "kIPiFHU7ys-G"
      },
      "execution_count": null,
      "outputs": []
    },
    {
      "cell_type": "code",
      "source": [
        "import numpy as np\n",
        "\n",
        "from tensorflow.keras.preprocessing import image\n",
        "from tensorflow.keras.applications.mobilenet import MobileNet, preprocess_input, decode_predictions\n",
        "\n",
        "from tensorflow.keras.layers import Dense, GlobalAveragePooling2D, Conv2D, MaxPooling2D, Flatten, Dropout\n",
        "from tensorflow.keras.models import Model\n",
        "\n",
        "mobilenet = MobileNet(weights='imagenet', include_top=False)"
      ],
      "metadata": {
        "id": "SO9vaFdJsHlP"
      },
      "execution_count": null,
      "outputs": []
    },
    {
      "cell_type": "code",
      "source": [
        "import os\n",
        "\n",
        "base_dir = '/content/output'\n",
        "\n",
        "train_dir = os.path.join(base_dir, 'train')\n",
        "train_normal_dir = os.path.join(train_dir, '무')\n",
        "train_disease_dir = os.path.join(train_dir, '유')\n",
        "\n",
        "validation_dir = os.path.join(base_dir, 'val')\n",
        "validation_normal_dir = os.path.join(validation_dir, '무')\n",
        "validation_disease_dir = os.path.join(validation_dir, '유')"
      ],
      "metadata": {
        "id": "kmoEHc6lsOKB"
      },
      "execution_count": null,
      "outputs": []
    },
    {
      "cell_type": "code",
      "source": [
        "print('total training normal images:', len(os.listdir(train_normal_dir)))\n",
        "print('total training disease images:', len(os.listdir(train_disease_dir)))\n",
        "print('total validation normal images:', len(os.listdir(validation_normal_dir)))\n",
        "print('total validation disease images:', len(os.listdir(validation_disease_dir)))"
      ],
      "metadata": {
        "id": "bO4usCKAs7Yf"
      },
      "execution_count": null,
      "outputs": []
    },
    {
      "cell_type": "code",
      "source": [
        "from keras.preprocessing.image import ImageDataGenerator\n",
        "\n",
        "train_datagen = ImageDataGenerator(rescale=1./255)\n",
        "val_datagen = ImageDataGenerator(rescale=1./255)\n",
        "\n",
        "train_generator = train_datagen.flow_from_directory(\n",
        "        train_dir,  \n",
        "        target_size=(224, 224),\n",
        "        batch_size=20,\n",
        "        #classes=['nor','dis'],\n",
        "        shuffle=True,\n",
        "        class_mode='binary')\n",
        "\n",
        "validation_generator = val_datagen.flow_from_directory(\n",
        "        validation_dir,\n",
        "        target_size=(224, 224),\n",
        "        batch_size=20,\n",
        "        #classes=['nor','dis'],\n",
        "        shuffle=True,\n",
        "        class_mode='binary')"
      ],
      "metadata": {
        "id": "xdOwzcvGtG3L"
      },
      "execution_count": null,
      "outputs": []
    },
    {
      "cell_type": "code",
      "source": [
        "import matplotlib.pylab as plt\n",
        "\n",
        "#class_labels = ['nor', 'dis']\n",
        "batch = next(train_generator)\n",
        "images, labels = batch[0], batch[1] # 0번 이미지데이터 1번 레이블\n",
        "print(labels[:5])\n",
        "plt.figure(figsize=(16,8))\n",
        "for i in range(5) :\n",
        "    ax = plt.subplot(4,8,i+1)\n",
        "    plt.imshow(images[i])\n",
        "    #plt.title(class_labels[labels[i].astype(np.int)])\n",
        "    plt.axis(\"off\")\n",
        "plt.tight_layout()\n",
        "plt.show()"
      ],
      "metadata": {
        "id": "4fXw_cwkvf7s"
      },
      "execution_count": null,
      "outputs": []
    },
    {
      "cell_type": "code",
      "source": [
        "# for layer in mobilenet.layers:\n",
        "#     layer.trainable = False"
      ],
      "metadata": {
        "id": "S936z7H3yzLG"
      },
      "execution_count": null,
      "outputs": []
    },
    {
      "cell_type": "code",
      "source": [
        "x = mobilenet.output\n",
        "x = GlobalAveragePooling2D()(x)\n",
        "x = Dense(512, activation='relu')(x)\n",
        "x = Dropout(0.5)(x)\n",
        "predictions = Dense(1, activation='sigmoid')(x)\n",
        "model = Model(mobilenet.input, predictions)"
      ],
      "metadata": {
        "id": "CSt3qhebyzq5"
      },
      "execution_count": null,
      "outputs": []
    },
    {
      "cell_type": "code",
      "source": [
        "mobilenet.trainable = True\n",
        "print(\"Number of layers in the base model: \", len(mobilenet.layers))\n",
        "\n",
        "# 해당 층 이후부터 미세 조정\n",
        "fine_tune_at = 50\n",
        "\n",
        "# `fine_tune_at` 층 이전의 모든 층을 고정\n",
        "for layer in mobilenet.layers[:fine_tune_at]:\n",
        "  layer.trainable =  False"
      ],
      "metadata": {
        "id": "hdMa2a8kSbQy"
      },
      "execution_count": null,
      "outputs": []
    },
    {
      "cell_type": "code",
      "source": [
        "from tensorflow import keras\n",
        "\n",
        "adam = keras.optimizers.Adam(learning_rate=0.00001)\n",
        "checkpoint_filepath = \"FMbest.hdf5\"\n",
        "model.compile(optimizer=adam, loss=\"binary_crossentropy\", metrics=[\"accuracy\"])\n",
        "\n",
        "early_stop = keras.callbacks.EarlyStopping(monitor='val_loss',min_delta=0,patience=5, verbose=1)\n",
        "\n",
        "save_best = keras.callbacks.ModelCheckpoint(filepath=checkpoint_filepath, monitor='val_loss',\n",
        "                                            verbose=1, save_best_only=True, save_weights_only=True, \n",
        "                                            mode='auto',save_freq='epoch',options=None)"
      ],
      "metadata": {
        "id": "Al17DgeZ0pp4"
      },
      "execution_count": null,
      "outputs": []
    },
    {
      "cell_type": "code",
      "source": [
        "history = model.fit(\n",
        "      train_generator,\n",
        "      steps_per_epoch=27,  \n",
        "      epochs=50,\n",
        "      validation_data=validation_generator,\n",
        "      validation_steps=10,\n",
        "      callbacks=[early_stop, save_best],\n",
        "      verbose=1)"
      ],
      "metadata": {
        "id": "rA74213O0rmM"
      },
      "execution_count": null,
      "outputs": []
    },
    {
      "cell_type": "code",
      "source": [
        "plt.plot(history.history['accuracy'],'b-', label='accuracy')\n",
        "plt.plot(history.history['val_accuracy'],'r--', label='val_accuracy')\n",
        "plt.xlabel('Epoch')\n",
        "plt.legend()\n",
        "plt.show()"
      ],
      "metadata": {
        "id": "Gt3dxpXg4xFT"
      },
      "execution_count": null,
      "outputs": []
    },
    {
      "cell_type": "code",
      "source": [
        "plt.plot(history.history['loss'],'b-', label='loss')\n",
        "plt.plot(history.history['val_loss'],'r--', label='val_loss')\n",
        "plt.xlabel('Epoch')\n",
        "plt.legend()\n",
        "plt.show()"
      ],
      "metadata": {
        "id": "ZgzFoH6LEZj8"
      },
      "execution_count": null,
      "outputs": []
    },
    {
      "cell_type": "code",
      "source": [
        "# import os\n",
        "# import shutil\n",
        "# import time\n",
        "\n",
        "# def read_all_file(path):\n",
        "#     output = os.listdir(path)\n",
        "#     file_list = []\n",
        "\n",
        "#     for i in output:\n",
        "#         if os.path.isdir(path+\"/\"+i):\n",
        "#             file_list.extend(read_all_file(path+\"/\"+i))\n",
        "#         elif os.path.isfile(path+\"/\"+i):\n",
        "#             file_list.append(path+\"/\"+i)\n",
        "\n",
        "#     return file_list\n",
        "\n",
        "# def copy_all_file(file_list, new_path):\n",
        "#     for src_path in file_list:\n",
        "#         file = src_path.split(\"/\")[-1]\n",
        "#         shutil.copyfile(src_path, new_path+\"/\"+file)\n",
        "#         print(\"파일 {} 작업 완료\".format(file)) # 작업한 파일명 출력\n",
        "        \n",
        "        \n",
        "# start_time = time.time() # 작업 시작 시간 \n",
        "\n",
        "# src_path = \"/content/output/test/유\" # 기존 폴더 경로\n",
        "# new_path = \"/content/output/test_2/test_folder\" # 옮길 폴더 경로\n",
        "\n",
        "# file_list = read_all_file(src_path)\n",
        "# copy_all_file(file_list, new_path)\n",
        "\n",
        "# print(\"=\" * 40)\n",
        "# print(\"러닝 타임 : {}\".format(time.time() - start_time)) # 총 소요시간 계산"
      ],
      "metadata": {
        "id": "z41Q-0OapRAA"
      },
      "execution_count": null,
      "outputs": []
    },
    {
      "cell_type": "code",
      "source": [
        "# test_dir1 = os.path.join(base_dir, 'test_2')\n",
        "\n",
        "# test_datagen1 = ImageDataGenerator(rescale=1./255)\n",
        "\n",
        "# test_generator1 = test_datagen1.flow_from_directory(\n",
        "#         directory=test_dir1,\n",
        "#         target_size=(224, 224),\n",
        "#         batch_size=1,\n",
        "#         classes=['.'],\n",
        "#         shuffle=False,\n",
        "#         class_mode='binary')"
      ],
      "metadata": {
        "id": "6fvi-RGOE1Z-"
      },
      "execution_count": null,
      "outputs": []
    },
    {
      "cell_type": "code",
      "source": [
        "# test_dir = os.path.join(base_dir, 'test')\n",
        "\n",
        "# test_datagen = ImageDataGenerator(rescale=1./255)\n",
        "\n",
        "# test_generator = test_datagen.flow_from_directory(\n",
        "#         test_dir,\n",
        "#         target_size=(224, 224),\n",
        "#         batch_size=20,\n",
        "#         #classes=['nor','dis'],\n",
        "#         shuffle=False,\n",
        "#         class_mode='binary')"
      ],
      "metadata": {
        "id": "nu2thzqCK9IY"
      },
      "execution_count": null,
      "outputs": []
    },
    {
      "cell_type": "code",
      "source": [
        "# model.evaluate(test_generator1)"
      ],
      "metadata": {
        "id": "mNWpRbRjEtF4"
      },
      "execution_count": null,
      "outputs": []
    },
    {
      "cell_type": "code",
      "source": [
        "# # Retrieve a batch of images from the test set\n",
        "# import tensorflow as tf\n",
        "\n",
        "# image_batch, label_batch = test_generator1.next()\n",
        "# predictions = model.predict_on_batch(image_batch).flatten()\n",
        "\n",
        "# # Apply a sigmoid since our model returns logits\n",
        "# predictions = tf.nn.sigmoid(predictions)\n",
        "# predictions = tf.where(predictions < 0.5, 0, 1)\n",
        "\n",
        "# print('Predictions:\\n', predictions.numpy())\n",
        "# print('Labels:\\n', label_batch)\n",
        "\n",
        "# plt.figure(figsize=(10, 10))\n",
        "# for i in range(9):\n",
        "#   ax = plt.subplot(3, 3, i + 1)\n",
        "#   plt.imshow(image_batch[i])\n",
        "\n",
        "#   plt.axis(\"off\")"
      ],
      "metadata": {
        "id": "Q11itKkLbIzt"
      },
      "execution_count": null,
      "outputs": []
    },
    {
      "cell_type": "code",
      "source": [
        "from tensorflow.keras.preprocessing import image\n",
        "from tensorflow.keras.applications.mobilenet import MobileNet, preprocess_input, decode_predictions\n",
        "import tensorflow as tf\n",
        "\n",
        "img_path = '/content/t.JPG'\n",
        "img = image.load_img(img_path, target_size=(224, 224))\n",
        "x = image.img_to_array(img)\n",
        "x = np.expand_dims(x, axis=0)\n",
        "x = preprocess_input(x)\n",
        "\n",
        "preds = model.predict(x)\n",
        "print(preds)\n",
        "predictions = tf.nn.sigmoid(preds)\n",
        "preds = tf.where(preds < 0.5, 0, 1)\n",
        "print(preds)\n",
        "plt.imshow(img)"
      ],
      "metadata": {
        "id": "WaL53fcQXgKU"
      },
      "execution_count": null,
      "outputs": []
    }
  ]
}